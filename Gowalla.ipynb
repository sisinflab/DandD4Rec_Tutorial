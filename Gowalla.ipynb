{
  "nbformat": 4,
  "nbformat_minor": 0,
  "metadata": {
    "colab": {
      "provenance": [],
      "authorship_tag": "ABX9TyNQIL1i/Y1VD3KsRedwbars"
    },
    "kernelspec": {
      "name": "python3",
      "display_name": "Python 3"
    },
    "language_info": {
      "name": "python"
    }
  },
  "cells": [
    {
      "cell_type": "code",
      "source": [
        "!git clone https://github.com/sisinflab/DataRec.git\n",
        "%cd DataRec\n",
        "%pip install -r requirements.txt"
      ],
      "metadata": {
        "colab": {
          "base_uri": "https://localhost:8080/"
        },
        "id": "aV4MwWxiw5-P",
        "outputId": "7d0e32a0-8c9c-4d85-fa6f-d0f54c286f5d"
      },
      "execution_count": null,
      "outputs": [
        {
          "output_type": "stream",
          "name": "stdout",
          "text": [
            "fatal: destination path 'DataRec' already exists and is not an empty directory.\n",
            "/content/DataRec\n",
            "Requirement already satisfied: numpy in /usr/local/lib/python3.12/dist-packages (from -r requirements.txt (line 1)) (2.0.2)\n",
            "Requirement already satisfied: pandas in /usr/local/lib/python3.12/dist-packages (from -r requirements.txt (line 2)) (2.2.2)\n",
            "Requirement already satisfied: scikit-learn in /usr/local/lib/python3.12/dist-packages (from -r requirements.txt (line 3)) (1.6.1)\n",
            "Requirement already satisfied: tqdm in /usr/local/lib/python3.12/dist-packages (from -r requirements.txt (line 4)) (4.67.1)\n",
            "Requirement already satisfied: gdown in /usr/local/lib/python3.12/dist-packages (from -r requirements.txt (line 5)) (5.2.0)\n",
            "Requirement already satisfied: requests in /usr/local/lib/python3.12/dist-packages (from -r requirements.txt (line 6)) (2.32.4)\n",
            "Requirement already satisfied: typing in /usr/local/lib/python3.12/dist-packages (from -r requirements.txt (line 7)) (3.7.4.3)\n",
            "Requirement already satisfied: typing_extensions in /usr/local/lib/python3.12/dist-packages (from -r requirements.txt (line 8)) (4.15.0)\n",
            "Requirement already satisfied: py7zr in /usr/local/lib/python3.12/dist-packages (from -r requirements.txt (line 9)) (1.0.0)\n",
            "Requirement already satisfied: python-dateutil>=2.8.2 in /usr/local/lib/python3.12/dist-packages (from pandas->-r requirements.txt (line 2)) (2.9.0.post0)\n",
            "Requirement already satisfied: pytz>=2020.1 in /usr/local/lib/python3.12/dist-packages (from pandas->-r requirements.txt (line 2)) (2025.2)\n",
            "Requirement already satisfied: tzdata>=2022.7 in /usr/local/lib/python3.12/dist-packages (from pandas->-r requirements.txt (line 2)) (2025.2)\n",
            "Requirement already satisfied: scipy>=1.6.0 in /usr/local/lib/python3.12/dist-packages (from scikit-learn->-r requirements.txt (line 3)) (1.16.1)\n",
            "Requirement already satisfied: joblib>=1.2.0 in /usr/local/lib/python3.12/dist-packages (from scikit-learn->-r requirements.txt (line 3)) (1.5.2)\n",
            "Requirement already satisfied: threadpoolctl>=3.1.0 in /usr/local/lib/python3.12/dist-packages (from scikit-learn->-r requirements.txt (line 3)) (3.6.0)\n",
            "Requirement already satisfied: beautifulsoup4 in /usr/local/lib/python3.12/dist-packages (from gdown->-r requirements.txt (line 5)) (4.13.5)\n",
            "Requirement already satisfied: filelock in /usr/local/lib/python3.12/dist-packages (from gdown->-r requirements.txt (line 5)) (3.19.1)\n",
            "Requirement already satisfied: charset_normalizer<4,>=2 in /usr/local/lib/python3.12/dist-packages (from requests->-r requirements.txt (line 6)) (3.4.3)\n",
            "Requirement already satisfied: idna<4,>=2.5 in /usr/local/lib/python3.12/dist-packages (from requests->-r requirements.txt (line 6)) (3.10)\n",
            "Requirement already satisfied: urllib3<3,>=1.21.1 in /usr/local/lib/python3.12/dist-packages (from requests->-r requirements.txt (line 6)) (2.5.0)\n",
            "Requirement already satisfied: certifi>=2017.4.17 in /usr/local/lib/python3.12/dist-packages (from requests->-r requirements.txt (line 6)) (2025.8.3)\n",
            "Requirement already satisfied: texttable in /usr/local/lib/python3.12/dist-packages (from py7zr->-r requirements.txt (line 9)) (1.7.0)\n",
            "Requirement already satisfied: pycryptodomex>=3.20.0 in /usr/local/lib/python3.12/dist-packages (from py7zr->-r requirements.txt (line 9)) (3.23.0)\n",
            "Requirement already satisfied: brotli>=1.1.0 in /usr/local/lib/python3.12/dist-packages (from py7zr->-r requirements.txt (line 9)) (1.1.0)\n",
            "Requirement already satisfied: psutil in /usr/local/lib/python3.12/dist-packages (from py7zr->-r requirements.txt (line 9)) (5.9.5)\n",
            "Requirement already satisfied: pyzstd>=0.16.1 in /usr/local/lib/python3.12/dist-packages (from py7zr->-r requirements.txt (line 9)) (0.17.0)\n",
            "Requirement already satisfied: pyppmd<1.3.0,>=1.1.0 in /usr/local/lib/python3.12/dist-packages (from py7zr->-r requirements.txt (line 9)) (1.2.0)\n",
            "Requirement already satisfied: pybcj<1.1.0,>=1.0.0 in /usr/local/lib/python3.12/dist-packages (from py7zr->-r requirements.txt (line 9)) (1.0.6)\n",
            "Requirement already satisfied: multivolumefile>=0.2.3 in /usr/local/lib/python3.12/dist-packages (from py7zr->-r requirements.txt (line 9)) (0.2.3)\n",
            "Requirement already satisfied: inflate64<1.1.0,>=1.0.0 in /usr/local/lib/python3.12/dist-packages (from py7zr->-r requirements.txt (line 9)) (1.0.3)\n",
            "Requirement already satisfied: six>=1.5 in /usr/local/lib/python3.12/dist-packages (from python-dateutil>=2.8.2->pandas->-r requirements.txt (line 2)) (1.17.0)\n",
            "Requirement already satisfied: soupsieve>1.2 in /usr/local/lib/python3.12/dist-packages (from beautifulsoup4->gdown->-r requirements.txt (line 5)) (2.8)\n",
            "Requirement already satisfied: PySocks!=1.5.7,>=1.5.6 in /usr/local/lib/python3.12/dist-packages (from requests[socks]->gdown->-r requirements.txt (line 5)) (1.7.1)\n"
          ]
        }
      ]
    },
    {
      "cell_type": "code",
      "execution_count": null,
      "metadata": {
        "colab": {
          "base_uri": "https://localhost:8080/"
        },
        "id": "HeL4WFalw4zO",
        "outputId": "b19bb819-5f23-4690-a2c3-45e7e3ec9e30"
      },
      "outputs": [
        {
          "output_type": "stream",
          "name": "stdout",
          "text": [
            "Dataset\t #Users\t #Items\t #Ratings\t\n",
            "Gowalla\t107092\t1280969\t6442892\n",
            "== ExpoMF ==\n",
            "User min ratings: 20\n",
            "User min ratings: 1\n"
          ]
        }
      ],
      "source": [
        "from datarec.datasets import Gowalla\n",
        "from datarec.processing.kcore import UserKCore, ItemKCore\n",
        "from datarec.processing.rating import FilterOutDuplicatedInteractions\n",
        "\n",
        "def min_user_ratings(datarec):\n",
        "    return datarec.data.groupby(datarec.user_col).size().min()\n",
        "\n",
        "gowalla = Gowalla()\n",
        "\n",
        "print('Dataset\\t', '#Users\\t', '#Items\\t', '#Ratings\\t')\n",
        "print('\\t'.join(['Gowalla', str(gowalla.n_users), str(gowalla.n_items), str(gowalla.transactions)]))\n",
        "\n",
        "print('== ExpoMF ==')\n",
        "expomf = gowalla\n",
        "expomf = UserKCore(core=20).run(expomf)\n",
        "print('User min ratings:', min_user_ratings(expomf))\n",
        "expomf = ItemKCore(core=20).run(expomf)\n",
        "print('User min ratings:', min_user_ratings(expomf))"
      ]
    }
  ]
}