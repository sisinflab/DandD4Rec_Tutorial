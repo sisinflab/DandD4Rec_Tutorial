{
  "nbformat": 4,
  "nbformat_minor": 0,
  "metadata": {
    "colab": {
      "provenance": [],
      "authorship_tag": "ABX9TyOsY3X7Zp/9fbtbSphy9uSS",
      "include_colab_link": true
    },
    "kernelspec": {
      "name": "python3",
      "display_name": "Python 3"
    },
    "language_info": {
      "name": "python"
    }
  },
  "cells": [
    {
      "cell_type": "markdown",
      "metadata": {
        "id": "view-in-github",
        "colab_type": "text"
      },
      "source": [
        "<a href=\"https://colab.research.google.com/github/sisinflab/DandD4Rec_Tutorial/blob/main/Gowalla.ipynb\" target=\"_parent\"><img src=\"https://colab.research.google.com/assets/colab-badge.svg\" alt=\"Open In Colab\"/></a>"
      ]
    },
    {
      "cell_type": "code",
      "source": [
        "!git clone https://github.com/sisinflab/DataRec.git\n",
        "%cd DataRec\n",
        "%pip install -r requirements.txt -q"
      ],
      "metadata": {
        "colab": {
          "base_uri": "https://localhost:8080/"
        },
        "id": "aV4MwWxiw5-P",
        "outputId": "87222f2f-3185-49ed-c53a-081aade5cc5a"
      },
      "execution_count": 1,
      "outputs": [
        {
          "output_type": "stream",
          "name": "stdout",
          "text": [
            "Cloning into 'DataRec'...\n",
            "remote: Enumerating objects: 405, done.\u001b[K\n",
            "remote: Counting objects: 100% (52/52), done.\u001b[K\n",
            "remote: Compressing objects: 100% (34/34), done.\u001b[K\n",
            "remote: Total 405 (delta 20), reused 19 (delta 18), pack-reused 353 (from 1)\u001b[K\n",
            "Receiving objects: 100% (405/405), 1.30 MiB | 10.13 MiB/s, done.\n",
            "Resolving deltas: 100% (110/110), done.\n",
            "/content/DataRec\n",
            "\u001b[2K     \u001b[90m━━━━━━━━━━━━━━━━━━━━━━━━━━━━━━━━━━━━━━━━\u001b[0m \u001b[32m78.6/78.6 kB\u001b[0m \u001b[31m3.0 MB/s\u001b[0m eta \u001b[36m0:00:00\u001b[0m\n",
            "\u001b[?25h  Preparing metadata (setup.py) ... \u001b[?25l\u001b[?25hdone\n",
            "\u001b[2K   \u001b[90m━━━━━━━━━━━━━━━━━━━━━━━━━━━━━━━━━━━━━━━━\u001b[0m \u001b[32m69.7/69.7 kB\u001b[0m \u001b[31m5.6 MB/s\u001b[0m eta \u001b[36m0:00:00\u001b[0m\n",
            "\u001b[2K   \u001b[90m━━━━━━━━━━━━━━━━━━━━━━━━━━━━━━━━━━━━━━━━\u001b[0m \u001b[32m97.0/97.0 kB\u001b[0m \u001b[31m7.3 MB/s\u001b[0m eta \u001b[36m0:00:00\u001b[0m\n",
            "\u001b[2K   \u001b[90m━━━━━━━━━━━━━━━━━━━━━━━━━━━━━━━━━━━━━━━━\u001b[0m \u001b[32m51.7/51.7 kB\u001b[0m \u001b[31m3.4 MB/s\u001b[0m eta \u001b[36m0:00:00\u001b[0m\n",
            "\u001b[2K   \u001b[90m━━━━━━━━━━━━━━━━━━━━━━━━━━━━━━━━━━━━━━━━\u001b[0m \u001b[32m142.7/142.7 kB\u001b[0m \u001b[31m12.6 MB/s\u001b[0m eta \u001b[36m0:00:00\u001b[0m\n",
            "\u001b[2K   \u001b[90m━━━━━━━━━━━━━━━━━━━━━━━━━━━━━━━━━━━━━━━━\u001b[0m \u001b[32m413.6/413.6 kB\u001b[0m \u001b[31m24.6 MB/s\u001b[0m eta \u001b[36m0:00:00\u001b[0m\n",
            "\u001b[?25h  Building wheel for typing (setup.py) ... \u001b[?25l\u001b[?25hdone\n"
          ]
        }
      ]
    },
    {
      "cell_type": "code",
      "execution_count": 2,
      "metadata": {
        "colab": {
          "base_uri": "https://localhost:8080/"
        },
        "id": "HeL4WFalw4zO",
        "outputId": "8d7b61a9-d197-458e-d056-358b38e3f177"
      },
      "outputs": [
        {
          "output_type": "stream",
          "name": "stderr",
          "text": [
            "/content/DataRec/datarec/data/utils.py:71: SyntaxWarning: invalid escape sequence '\\ '\n",
            "  raise FileNotFoundError(f'File \\'{file_path}\\ not found.')\n",
            "/content/DataRec/datarec/io/frameworks/recbole/recbole.py:90: SyntaxWarning: invalid escape sequence '\\&'\n",
            "  {\\&} Knowledge Management, Atlanta, GA, USA, October 17-21, 2022},\n",
            "/content/DataRec/datarec/io/frameworks/elliot/elliot.py:46: SyntaxWarning: invalid escape sequence '\\i'\n",
            "  Alejandro Bellog{\\'{\\i}}n and\n"
          ]
        },
        {
          "output_type": "stream",
          "name": "stdout",
          "text": [
            "Created folder '/content/DataRec/data/gowalla/raw'\n",
            "Downloading data from: 'https://snap.stanford.edu/data/loc-gowalla_totalCheckins.txt.gz'\n"
          ]
        },
        {
          "output_type": "stream",
          "name": "stderr",
          "text": [
            "100%|██████████| 105M/105M [00:02<00:00, 38.0Mbyte/s]\n"
          ]
        },
        {
          "output_type": "stream",
          "name": "stdout",
          "text": [
            "File downloaded successfully and saved at '/content/DataRec/data/gowalla/raw/loc-gowalla_totalCheckins.txt.gz'\n",
            "/content/DataRec/data/gowalla/raw/loc-gowalla_totalCheckins.txt.gz\n",
            "Checksum verified.\n",
            "Decompress: '/content/DataRec/data/gowalla/raw/loc-gowalla_totalCheckins.txt.gz'\n",
            "File decompressed: '/content/DataRec/data/gowalla/raw/loc-gowalla_totalCheckins.txt'\n",
            "\n",
            "====================\n",
            "== Gowalla Clean ==\n",
            "Dataset\t #Users\t #Items\t #Ratings\t\n",
            "Gowalla\t107092\t1280969\t6442892\n",
            "\n",
            "====================\n",
            "== ExpoMF ==\n",
            "User min ratings: 20\n",
            "User min ratings: 1\n",
            "Dataset\t #Users\t #Items\t #Ratings\t\n",
            "ExpoMF\t57629\t47198\t2318616\n",
            "\n",
            "====================\n",
            "== NGCF ==\n",
            "Running filter-out duplicated interactions with strategy first\n",
            "Filtering DataRec: gowalla\n",
            "User min ratings: 1\n",
            "User min ratings: 10\n",
            "Dataset\t #Users\t #Items\t #Ratings\t\n",
            "NGCF\t34796\t57403\t1192807\n"
          ]
        }
      ],
      "source": [
        "from datarec.datasets import Gowalla\n",
        "from datarec.processing.kcore import UserKCore, ItemKCore\n",
        "from datarec.processing.rating import FilterOutDuplicatedInteractions\n",
        "\n",
        "def min_user_ratings(datarec):\n",
        "    return datarec.data.groupby(datarec.user_col).size().min()\n",
        "\n",
        "gowalla = Gowalla()\n",
        "\n",
        "print('\\n====================')\n",
        "print('== Gowalla Clean ==')\n",
        "\n",
        "print('Dataset\\t', '#Users\\t', '#Items\\t', '#Ratings\\t')\n",
        "print('\\t'.join(['Gowalla', str(gowalla.n_users), str(gowalla.n_items), str(gowalla.transactions)]))\n",
        "\n",
        "print('\\n====================')\n",
        "print('== ExpoMF ==')\n",
        "expomf = gowalla\n",
        "expomf = UserKCore(core=20).run(expomf)\n",
        "print('User min ratings:', min_user_ratings(expomf))\n",
        "expomf = ItemKCore(core=20).run(expomf)\n",
        "print('User min ratings:', min_user_ratings(expomf))\n",
        "\n",
        "print('Dataset\\t', '#Users\\t', '#Items\\t', '#Ratings\\t')\n",
        "print('\\t'.join(['ExpoMF', str(expomf.n_users), str(expomf.n_items), str(expomf.transactions)]))\n",
        "\n",
        "print('\\n====================')\n",
        "print('== NGCF ==')\n",
        "\n",
        "dup_filter = FilterOutDuplicatedInteractions()\n",
        "ngcf = dup_filter.run(gowalla)\n",
        "\n",
        "ngcf = ItemKCore(core=10).run(ngcf)\n",
        "print('User min ratings:', min_user_ratings(ngcf))\n",
        "ngcf = UserKCore(core=10).run(ngcf)\n",
        "print('User min ratings:', min_user_ratings(ngcf))\n",
        "\n",
        "\n",
        "print('Dataset\\t', '#Users\\t', '#Items\\t', '#Ratings\\t')\n",
        "print('\\t'.join(['NGCF', str(ngcf.n_users), str(ngcf.n_items), str(ngcf.transactions)]))\n",
        ""
      ]
    }
  ]
}